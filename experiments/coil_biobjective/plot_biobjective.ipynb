{
 "cells": [
  {
   "cell_type": "code",
   "execution_count": 1,
   "id": "meaningful-serial",
   "metadata": {},
   "outputs": [],
   "source": [
    "import pickle\n",
    "import numpy as np\n",
    "import matplotlib.pyplot as plt\n",
    "from matplotlib.pyplot import cm\n",
    "import matplotlib\n",
    "import seaborn as sns\n",
    "import glob\n",
    "import sys\n",
    "sys.path.append(\"../../utils\")\n",
    "from is_pareto_efficient import is_pareto_efficient\n",
    "\n",
    "plt.rc('font', family='serif')\n",
    "plt.rc('text.latex', preamble=r'\\usepackage{amsmath,bm}')\n",
    "matplotlib.rcParams.update({'font.size': 14})\n",
    "#import matplotlib.style as style\n",
    "#style.use('tableau-colorblind10')\n",
    "\n",
    "# colorblind colors\n",
    "colors = ['#377eb8', '#ff7f00', '#4daf4a',\n",
    "          '#f781bf', '#a65628', '#984ea3',\n",
    "          '#999999', '#e41a1c', '#dede00']\n",
    "markers = ['o','s','^']\n",
    "# # colorblind colors\n",
    "# from matplotlib.colors import ListedColormap\n",
    "# cmap = ListedColormap(sns.color_palette(\"colorblind\",256))\n",
    "# colors = cmap(np.linspace(0,1,len(ncoils_unique)))\n",
    "\n",
    "\n",
    "# import sys\n",
    "# !{sys.executable} -m pip install simsopt"
   ]
  },
  {
   "cell_type": "code",
   "execution_count": 2,
   "id": "becoming-cologne",
   "metadata": {},
   "outputs": [],
   "source": [
    "filelist = glob.glob(\"./output/biobjective/length/biobjective_eps_con_length_*.pickle\")"
   ]
  },
  {
   "cell_type": "code",
   "execution_count": 3,
   "id": "failing-piano",
   "metadata": {},
   "outputs": [],
   "source": [
    "Fopt_list = []\n",
    "constraint_targets = []\n",
    "ncoils = []\n",
    "for ff in filelist:\n",
    "    indata = pickle.load(open(ff,\"rb\"))\n",
    "    Fopt_list.append(indata['Fopt'])\n",
    "    constraint_targets.append(indata['constraint_target'])\n",
    "    ncoils.append(indata['ncoils'])\n",
    "Fopt_list = np.array(Fopt_list)\n",
    "constraint_targets = np.array(constraint_targets)\n",
    "ncoils = np.array(ncoils)"
   ]
  },
  {
   "cell_type": "code",
   "execution_count": 4,
   "id": "interested-skiing",
   "metadata": {},
   "outputs": [],
   "source": [
    "surf_minor_radius = 0.16831206437162438\n",
    "surf_effective_circumference = 2*np.pi*surf_minor_radius"
   ]
  },
  {
   "cell_type": "code",
   "execution_count": 5,
   "id": "convenient-russian",
   "metadata": {},
   "outputs": [],
   "source": [
    "# filter out points with small/large average coil length\n",
    "idx_filter = (Fopt_list[:,1]/ncoils > 2) & (Fopt_list[:,1]/ncoils < 8)\n",
    "Fopt_list = Fopt_list[idx_filter]\n",
    "constraint_targets = constraint_targets[idx_filter]\n",
    "ncoils = ncoils[idx_filter]\n",
    "\n",
    "# filter out points with 5 coils\n",
    "idx_filter = ncoils != 5\n",
    "Fopt_list = Fopt_list[idx_filter]\n",
    "constraint_targets = constraint_targets[idx_filter]\n",
    "ncoils = ncoils[idx_filter]"
   ]
  },
  {
   "cell_type": "code",
   "execution_count": 6,
   "id": "surface-bhutan",
   "metadata": {},
   "outputs": [
    {
     "data": {
      "text/plain": [
       "<matplotlib.legend.Legend at 0x7f50b28d9b20>"
      ]
     },
     "execution_count": 6,
     "metadata": {},
     "output_type": "execute_result"
    },
    {
     "data": {
      "image/png": "[encoded data removed]",
      "text/plain": [
       "<Figure size 576x576 with 1 Axes>"
      ]
     },
     "metadata": {
      "needs_background": "light"
     },
     "output_type": "display_data"
    }
   ],
   "source": [
    "fig = plt.figure(figsize=(8,8))\n",
    "ncoils_unique = np.unique(ncoils)\n",
    "\n",
    "\n",
    "# get the Pareto set\n",
    "for ii,nn in enumerate(ncoils_unique):\n",
    "    # find the pareto set for this number of coils\n",
    "    idx_nn = ncoils == nn\n",
    "    idx_pareto = is_pareto_efficient(Fopt_list[idx_nn])\n",
    "    F_pareto = Fopt_list[idx_nn][idx_pareto]\n",
    "    \n",
    "    # plot samples\n",
    "#     plt.scatter(Fopt_list[idx_nn,1]/nn/surf_effective_circumference,Fopt_list[idx_nn,0],color=colors[ii],marker='o',s=15,label='Samples, $n_c = %d$'%nn)\n",
    "\n",
    "    # plot pareto for total coil length\n",
    "#     plt.scatter(F_pareto[:,1],F_pareto[:,0],color=colors[ii],marker=markers[ii],s=80,label='$n_c = %d$'%nn)\n",
    "\n",
    "    # plot pareto for average coil length\n",
    "#     plt.scatter(F_pareto[:,1],F_pareto[:,0],color=colors[ii],marker=markers[ii],s=80,label='$n_c = %d$'%nn)\n",
    "    plt.scatter(F_pareto[:,1]/nn/surf_effective_circumference,F_pareto[:,0],color=colors[ii],marker=markers[ii],s=80,label='$%d$ coils'%nn)\n",
    "\n",
    "plt.ylabel('Quadratic Flux')\n",
    "plt.xlabel(\"Average Coil Length / Surface Minor Circumference\")\n",
    "plt.yscale('log')\n",
    "plt.legend(loc='upper right')\n",
    "# plt.xlim(20,30)"
   ]
  },
  {
   "cell_type": "code",
   "execution_count": null,
   "id": "welcome-support",
   "metadata": {},
   "outputs": [],
   "source": []
  },
  {
   "cell_type": "code",
   "execution_count": null,
   "id": "introductory-monte",
   "metadata": {},
   "outputs": [],
   "source": []
  },
  {
   "cell_type": "code",
   "execution_count": null,
   "id": "baking-equilibrium",
   "metadata": {},
   "outputs": [],
   "source": []
  },
  {
   "cell_type": "code",
   "execution_count": null,
   "id": "placed-iraqi",
   "metadata": {},
   "outputs": [],
   "source": []
  }
 ],
 "metadata": {
  "kernelspec": {
   "display_name": "Python 3",
   "language": "python",
   "name": "python3"
  },
  "language_info": {
   "codemirror_mode": {
    "name": "ipython",
    "version": 3
   },
   "file_extension": ".py",
   "mimetype": "text/x-python",
   "name": "python",
   "nbconvert_exporter": "python",
   "pygments_lexer": "ipython3",
   "version": "3.8.5"
  }
 },
 "nbformat": 4,
 "nbformat_minor": 5
}
